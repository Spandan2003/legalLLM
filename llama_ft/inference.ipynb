{
 "cells": [
  {
   "cell_type": "code",
   "execution_count": 1,
   "id": "7f8529b9-9052-46a4-b7d4-a8ee7e13d723",
   "metadata": {},
   "outputs": [],
   "source": [
    "import os, torch, logging\n",
    "from datasets import load_dataset\n",
    "from transformers import AutoModelForCausalLM, AutoTokenizer, BitsAndBytesConfig, HfArgumentParser, TrainingArguments, pipeline\n",
    "from peft import LoraConfig, PeftModel\n",
    "from trl import SFTTrainer\n",
    "from evaluate import load"
   ]
  },
  {
   "cell_type": "code",
   "execution_count": 2,
   "id": "65ad8ed9-b21c-4ee4-9bff-bc58ac5b40fa",
   "metadata": {},
   "outputs": [],
   "source": [
    "base_model_name = \"meta-llama/Llama-2-7b-chat-hf\"\n",
    "llama_tokenizer = AutoTokenizer.from_pretrained(base_model_name, trust_remote_code=True)\n",
    "llama_tokenizer.pad_token = llama_tokenizer.eos_token\n",
    "llama_tokenizer.padding_side = \"right\"  # Fix for fp16\n"
   ]
  },
  {
   "cell_type": "code",
   "execution_count": 3,
   "id": "97735e47",
   "metadata": {},
   "outputs": [],
   "source": [
    "torch.cuda.empty_cache()\n",
    "# torch.cuda.set_per_process_memory_fraction(0.5, 0)\n",
    "# torch.cuda.set_per_process_memory_fraction(0.5, 1)"
   ]
  },
  {
   "cell_type": "code",
   "execution_count": 4,
   "id": "44e9e30f",
   "metadata": {},
   "outputs": [
    {
     "data": {
      "text/plain": [
       "EvaluationModule(name: \"rouge\", module_type: \"metric\", features: [{'predictions': Value(dtype='string', id='sequence'), 'references': Sequence(feature=Value(dtype='string', id='sequence'), length=-1, id=None)}, {'predictions': Value(dtype='string', id='sequence'), 'references': Value(dtype='string', id='sequence')}], usage: \"\"\"\n",
       "Calculates average rouge scores for a list of hypotheses and references\n",
       "Args:\n",
       "    predictions: list of predictions to score. Each prediction\n",
       "        should be a string with tokens separated by spaces.\n",
       "    references: list of reference for each prediction. Each\n",
       "        reference should be a string with tokens separated by spaces.\n",
       "    rouge_types: A list of rouge types to calculate.\n",
       "        Valid names:\n",
       "        `\"rouge{n}\"` (e.g. `\"rouge1\"`, `\"rouge2\"`) where: {n} is the n-gram based scoring,\n",
       "        `\"rougeL\"`: Longest common subsequence based scoring.\n",
       "        `\"rougeLsum\"`: rougeLsum splits text using `\"\n",
       "\"`.\n",
       "        See details in https://github.com/huggingface/datasets/issues/617\n",
       "    use_stemmer: Bool indicating whether Porter stemmer should be used to strip word suffixes.\n",
       "    use_aggregator: Return aggregates if this is set to True\n",
       "Returns:\n",
       "    rouge1: rouge_1 (f1),\n",
       "    rouge2: rouge_2 (f1),\n",
       "    rougeL: rouge_l (f1),\n",
       "    rougeLsum: rouge_lsum (f1)\n",
       "Examples:\n",
       "\n",
       "    >>> rouge = evaluate.load('rouge')\n",
       "    >>> predictions = [\"hello there\", \"general kenobi\"]\n",
       "    >>> references = [\"hello there\", \"general kenobi\"]\n",
       "    >>> results = rouge.compute(predictions=predictions, references=references)\n",
       "    >>> print(results)\n",
       "    {'rouge1': 1.0, 'rouge2': 1.0, 'rougeL': 1.0, 'rougeLsum': 1.0}\n",
       "\"\"\", stored examples: 0)"
      ]
     },
     "execution_count": 4,
     "metadata": {},
     "output_type": "execute_result"
    }
   ],
   "source": [
    "rouge_metric = load(\"rouge\")\n",
    "rouge_metric"
   ]
  },
  {
   "cell_type": "code",
   "execution_count": 5,
   "id": "fe9b4280-9cf9-4374-8e3e-867a3ad23973",
   "metadata": {},
   "outputs": [],
   "source": [
    "quant_config = BitsAndBytesConfig(\n",
    "    load_in_4bit=True,\n",
    "    bnb_4bit_quant_type=\"nf4\",\n",
    "    bnb_4bit_compute_dtype=torch.float16,\n",
    "    bnb_4bit_use_double_quant=False\n",
    ")\n"
   ]
  },
  {
   "cell_type": "code",
   "execution_count": 6,
   "id": "6b00045a-0c7d-4eba-a465-432e3d10a9e9",
   "metadata": {},
   "outputs": [
    {
     "data": {
      "application/vnd.jupyter.widget-view+json": {
       "model_id": "47287e78843d4bf4a03df9d6d1e4f1cf",
       "version_major": 2,
       "version_minor": 0
      },
      "text/plain": [
       "Loading checkpoint shards:   0%|          | 0/2 [00:00<?, ?it/s]"
      ]
     },
     "metadata": {},
     "output_type": "display_data"
    }
   ],
   "source": [
    "base_model = AutoModelForCausalLM.from_pretrained(\n",
    "    base_model_name,\n",
    "    #quantization_config=quant_config,\n",
    "    device_map='auto'\n",
    ")\n",
    "base_model.config.use_cache = False\n",
    "base_model.config.pretraining_tp = 1\n"
   ]
  },
  {
   "cell_type": "code",
   "execution_count": 7,
   "id": "2a4b412e-7851-4951-adc1-e6129a471669",
   "metadata": {},
   "outputs": [],
   "source": [
    "base_model = PeftModel.from_pretrained(\n",
    "    base_model,\n",
    "    os.path.join(\"model\", \"Llama-ft_1\")\n",
    "    # os.path.join('./results_modified_sarvam', \"checkpoint-5000\")\n",
    ")\n"
   ]
  },
  {
   "cell_type": "code",
   "execution_count": 8,
   "id": "5c023434-cc7a-4977-be6b-9e7fa4a4a881",
   "metadata": {},
   "outputs": [],
   "source": [
    "# query = '''Explain how the given case could be applied to a hypothetical fact pattern.\t\n",
    "# A government-owned company, XYZ Ltd., terminates the services of a permanent employee, Mr. A, without assigning any reason by invoking a clause in the employment contract that allows such termination. Mr. A challenges the termination and the validity of the clause in the High Court under Article 226.'''\n",
    "# text_gen = pipeline(task=\"text-generation\", model=base_model, tokenizer=llama_tokenizer, max_length=200,\n",
    "#                   do_sample=True,\n",
    "#                   top_k=10,\n",
    "#                   num_beams=5,\n",
    "#                   top_p=0.9,\n",
    "#                   temperature=0.7,\n",
    "#                   repetition_penalty=100.0,\n",
    "#                   num_return_sequences=1)\n",
    "# output = text_gen(f\"{query}\")\n",
    "# print(output[0]['generated_text'])"
   ]
  },
  {
   "cell_type": "code",
   "execution_count": 18,
   "id": "2e0c80c4",
   "metadata": {},
   "outputs": [
    {
     "data": {
      "text/plain": [
       "Dataset({\n",
       "    features: ['Unnamed: 0', 'prompt', 'response'],\n",
       "    num_rows: 1320\n",
       "})"
      ]
     },
     "metadata": {},
     "output_type": "display_data"
    },
    {
     "data": {
      "text/plain": [
       "{'Unnamed: 0': 697,\n",
       " 'prompt': \" No, that's all for now. Thanks.\\n\\n\",\n",
       " 'response': \"You're welcome. If you have further questions or need more guidance later, don't hesitate to reach out. Good luck with your complaint.\\n\\n\\n\\n\\n\\n\"}"
      ]
     },
     "execution_count": 18,
     "metadata": {},
     "output_type": "execute_result"
    }
   ],
   "source": [
    "# val_data = load_dataset('nisaar/LLAMA2_Legal_Dataset_4.4k_Instructions', split='train[70%:]')\n",
    "val_data = load_dataset('csv', data_files='dataset/Q&A-singleturn.csv', split=['train'])\n",
    "val_data = val_data[0].shuffle(seed=42)\n",
    "display(val_data)\n",
    "val_data[0]"
   ]
  },
  {
   "cell_type": "code",
   "execution_count": 19,
   "id": "8050c475",
   "metadata": {},
   "outputs": [
    {
     "data": {
      "text/plain": [
       "1320"
      ]
     },
     "execution_count": 19,
     "metadata": {},
     "output_type": "execute_result"
    }
   ],
   "source": [
    "len(val_data[\"prompt\"])"
   ]
  },
  {
   "cell_type": "code",
   "execution_count": 11,
   "id": "e52780c7",
   "metadata": {},
   "outputs": [],
   "source": [
    "# generated_texts = []\n",
    "# batch_size = 2\n",
    "# for i in range(0, len(val_data[\"prompt\"]), batch_size):\n",
    "#     batch_prompts = val_data[\"prompt\"][i:i+batch_size]\n",
    "#     input_ids_batch = llama_tokenizer(batch_prompts, padding=True, return_tensors=\"pt\", truncation=True)[\"input_ids\"].to('cuda')\n",
    "    \n",
    "#     # Generate text for the batch\n",
    "#     with torch.no_grad():\n",
    "#         output_batch = base_model.generate(input_ids_batch)\n",
    "    \n",
    "#     # Decode the generated texts\n",
    "#     for j in range(len(batch_prompts)):\n",
    "#         generated_text = llama_tokenizer.decode(output_batch[j], skip_special_tokens=True)\n",
    "#         generated_texts.append(generated_text)\n",
    "#     print(\"Batch \", i//batch_size, \" of \", len(val_data[\"prompt\"])/8, \" done\")\n",
    "# reference_texts = val_data[\"text\"]      #Replace reference column name according to dataset\n",
    "# rouge_scores = rouge_metric.compute(predictions=generated_texts[0: len(reference_texts)], \n",
    "#                                        references=reference_texts,\n",
    "#                                       use_aggregator=True)\n",
    "\n",
    "# print(\"Rouge Score:\", rouge_scores)"
   ]
  },
  {
   "cell_type": "code",
   "execution_count": 12,
   "id": "2a7c16e6",
   "metadata": {},
   "outputs": [],
   "source": [
    "# reference_texts = val_data[\"text\"]      #Replace reference column name according to dataset\n",
    "# rouge_scores = rouge_metric.compute(predictions=generated_texts, \n",
    "#                                        references=reference_texts[0: len(generated_texts)],\n",
    "#                                       use_aggregator=True)\n",
    "\n",
    "# print(\"Rouge Score:\", rouge_scores)"
   ]
  },
  {
   "cell_type": "code",
   "execution_count": null,
   "id": "7ecf1427",
   "metadata": {},
   "outputs": [],
   "source": []
  },
  {
   "cell_type": "code",
   "execution_count": 21,
   "id": "24476c1b",
   "metadata": {},
   "outputs": [
    {
     "name": "stdout",
     "output_type": "stream",
     "text": [
      "Inference 1 is done\n",
      "Inference 2 is done\n",
      "Inference 3 is done\n",
      "Inference 4 is done\n",
      "Inference 5 is done\n",
      "Inference 6 is done\n",
      "Inference 7 is done\n",
      "Inference 8 is done\n",
      "Inference 9 is done\n",
      "Inference 10 is done\n",
      "Inference 11 is done\n",
      "Inference 12 is done\n",
      "Inference 13 is done\n",
      "Inference 14 is done\n",
      "Inference 15 is done\n",
      "Inference 16 is done\n",
      "Inference 17 is done\n",
      "Inference 18 is done\n",
      "Inference 19 is done\n",
      "Inference 20 is done\n",
      "Inference 21 is done\n",
      "Inference 22 is done\n",
      "Inference 23 is done\n",
      "Inference 24 is done\n",
      "Inference 25 is done\n",
      "Inference 26 is done\n",
      "Inference 27 is done\n",
      "Inference 28 is done\n",
      "Inference 29 is done\n",
      "Inference 30 is done\n",
      "Inference 31 is done\n",
      "Inference 32 is done\n",
      "Inference 33 is done\n",
      "Inference 34 is done\n",
      "Inference 35 is done\n",
      "Inference 36 is done\n",
      "Inference 37 is done\n",
      "Inference 38 is done\n",
      "Inference 39 is done\n",
      "Inference 40 is done\n",
      "Inference 41 is done\n",
      "Inference 42 is done\n",
      "Inference 43 is done\n",
      "Inference 44 is done\n",
      "Inference 45 is done\n",
      "Inference 46 is done\n",
      "Inference 47 is done\n",
      "Inference 48 is done\n",
      "Inference 49 is done\n",
      "Inference 50 is done\n",
      "Rouge Score: {'rouge1': 0.06925840430674518, 'rouge2': 0.00974999329424761, 'rougeL': 0.050987059847001595, 'rougeLsum': 0.05898872485373344}\n"
     ]
    }
   ],
   "source": [
    "generated_texts = []\n",
    "base_model.eval()\n",
    "count = 0\n",
    "for example in val_data[\"prompt\"][:50]:\n",
    "    # Tokenize the input query\n",
    "    input_text = example\n",
    "    input_ids = llama_tokenizer(input_text, return_tensors=\"pt\")[\"input_ids\"].to('cuda')\n",
    "    \n",
    "    # Generate text using the model\n",
    "    output = base_model.generate(input_ids)\n",
    "    \n",
    "    # Decode the generated text\n",
    "    generated_text = llama_tokenizer.decode(output[0], skip_special_tokens=True)\n",
    "    \n",
    "    # Append the generated text to the list\n",
    "    generated_texts.append(generated_text)\n",
    "    count+=1\n",
    "    print(\"Inference\", count, \"is done\")\n",
    "\n",
    "#reference_texts = val_data[\"text\"][:100]      #Replace reference column name according to dataset\n",
    "reference_texts = val_data[\"response\"][:50]      #Replace reference column name according to dataset\n",
    "rouge_scores = rouge_metric.compute(predictions=generated_texts[0: len(reference_texts)], \n",
    "                                       references=reference_texts,\n",
    "                                      use_aggregator=True)\n",
    "\n",
    "print(\"Rouge Score:\", rouge_scores)"
   ]
  },
  {
   "cell_type": "code",
   "execution_count": 14,
   "id": "977d8078",
   "metadata": {},
   "outputs": [
    {
     "name": "stdout",
     "output_type": "stream",
     "text": [
      "Rouge Score: {'rouge1': 0.5497576292122677, 'rouge2': 0.3433784023641112, 'rougeL': 0.41054266855935584, 'rougeLsum': 0.5043940905243857}\n"
     ]
    }
   ],
   "source": [
    "reference_texts = val_data[\"text\"][:100]      #Replace reference column name according to dataset\n",
    "rouge_scores = rouge_metric.compute(predictions=generated_texts[0: len(reference_texts)], \n",
    "                                       references=reference_texts,\n",
    "                                      use_aggregator=True)\n",
    "\n",
    "print(\"Rouge Score:\", rouge_scores)"
   ]
  },
  {
   "cell_type": "code",
   "execution_count": null,
   "id": "6a7b9294-da30-40d5-a83f-2692755ac331",
   "metadata": {},
   "outputs": [
    {
     "name": "stdout",
     "output_type": "stream",
     "text": [
      "Rouge Score: {'rouge1': 0.42768532563811956, 'rouge2': 0.35632321992518257, 'rougeL': 0.39870255084373896, 'rougeLsum': 0.40893938205307623}\n"
     ]
    }
   ],
   "source": [
    "# rouge_scores = rouge_metric.compute(predictions=generated_texts[0: len(reference_texts)], \n",
    "#                                        references=reference_texts,\n",
    "#                                       use_aggregator=True)\n",
    "\n",
    "# print(\"Rouge Score:\", rouge_scores)"
   ]
  },
  {
   "cell_type": "markdown",
   "id": "651aa542",
   "metadata": {},
   "source": [
    "On nisaar legal dataset\n",
    "Finetuned(nisaar) model(100): Rouge Score: {'rouge1': 0.5497576292122677, 'rouge2': 0.3433784023641112, 'rougeL': 0.41054266855935584, 'rougeLsum': 0.5043940905243857}\n",
    "Without finetuning(100): Rouge Score: {'rouge1': 0.5601444346317581, 'rouge2': 0.35125095545555085, 'rougeL': 0.41783181053062163, 'rougeLsum': 0.5121870455981233}\n",
    "Without finetuning(1000): Rouge Score: {'rouge1': 0.5908812129578511, 'rouge2': 0.4445513273550393, 'rougeL': 0.5108490265999285, 'rougeLsum': 0.5437536631076831}\n",
    "\n",
    "On q_a dataset:\n",
    "Finetuned(nissar): Rouge Score: {'rouge1': 0.06925840430674518, 'rouge2': 0.00974999329424761, 'rougeL': 0.050987059847001595, 'rougeLsum': 0.05898872485373344}\n"
   ]
  },
  {
   "cell_type": "code",
   "execution_count": null,
   "id": "3d6be97d",
   "metadata": {},
   "outputs": [
    {
     "data": {
      "text/plain": [
       "['The case R. Rajagopal vs State Of T.N, (1994) 6 SCC 632, has had a significant influence on the principles of stare decisis in India. Stare decisis is a legal principle that refers to the doctrine of precedent, which means that courts should follow the decisions of higher courts in similar cases. In this case, the Supreme Court of India established the right to privacy as a fundamental right under Article 21 of the Constitution. This landmark decision has set a precedent for future cases involving the right to privacy and has become a binding authority for lower courts. As a result, any future cases involving the right to privacy will have to consider and apply the principles laid down in the R. Rajagopal case. This case has strengthened the principle of stare decisis in India by establishing a clear and authoritative precedent on the right to privacy, which must be followed by all courts in the country.',\n",
       " \"In the case of Reserve Bank of India vs Palai Central Bank Ltd, the High Court of Kerala upheld the validity of Section 38(3)(b)(iii) of the Banking Regulation Act, 1949, which empowers the Reserve Bank of India (RBI) to seek the winding up of a banking company if its continuance is prejudicial to the interests of depositors. The legal reasoning behind this judgment can be analyzed as follows:\\n\\n1. Objective of the provision: The court recognized that the objective of Section 38(3)(b)(iii) is to protect the interests of depositors. It acknowledged that the RBI, as the regulatory authority, is best suited to determine whether the winding up of a banking company is necessary to safeguard the depositors' interests.\\n\\n2. Sufficient guidance provided: The court found that the provision provides sufficient guidance to the RBI by requiring the continuance of the banking company to be prejudicial to the interests of depositors. This requirement ensures that the power to seek winding up is not exercised arbitrarily but only in situations where it is essential to protect the depositors.\\n\\n3. Expertise of the RBI: The court recognized the expertise of the RBI in supervising and regulating banks. It emphasized that the RBI possesses the necessary information and knowledge to assess the financial position of a banking company and determine whether its continuance poses a risk to the depositors. The court considered the RBI's subjective satisfaction based on inspections and intimate knowledge of banks as a reasonable basis for exercising the power to seek winding up.\\n\\n4. Reasonable restriction on fundamental rights: The court addressed the argument that Section 38(3)(b)(iii) violates Article 14 (right to equality) and Article 19(1)(f) and (g) (right to practice any profession, or to carry on any occupation, trade, or business) of the Constitution. It held that the restriction imposed by the provision qualifies as a reasonable restriction in the public interest under Article 19(5) and (6). The court recognized that stringent regulation of banking companies is necessary to protect the interests of depositors and that judicial review and delays in such matters would harm the depositors.\\n\\n5. Absence of mala fides: The court rejected the allegation of mala fides against the RBI in filing the winding up petition. It considered the inspection reports and materials placed before the court, which demonstrated the poor financial health and mismanagement of the Palai Central Bank. The court noted that the provision allowed the RBI to not disclose materials but observed that the RBI chose to place all relevant materials before the court, indicating the absence of any dishonest motive or impropriety in the decision to seek winding up.\\n\\nOverall, the court's legal reasoning in this judgment emphasizes the importance of protecting the interests of depositors and recognizes the expertise of the RBI in regulating banks. It upholds the validity of Section 38(3)(b)(iii) as a reasonable restriction on fundamental rights in the public interest.\",\n",
       " 'The key legal issues in the case of Reserve Bank of India vs Palai Central Bank Ltd are as follows:\\n\\n1. Validity of Section 38(3)(b)(iii) of the Banking Regulation Act, 1949: The main issue in the case was the challenge to the validity of this provision, which empowers the RBI to seek the winding up of a banking company if its continuance is prejudicial to the interests of depositors. The court had to determine whether this provision violated Article 14 and 19(1)(f) and (g) of the Constitution.\\n\\n2. Constitutionality of Section 38(3)(b)(iii): The court had to examine whether Section 38(3)(b)(iii) of the Banking Regulation Act, 1949 was constitutionally valid. The provision allows the RBI to seek the winding up of a banking company if its continuance is prejudicial to the interests of depositors. The court had to assess whether this provision violated the constitutional rights of the banking company.\\n\\n3. Mala fides of the RBI: The Palai Central Bank Ltd alleged mala fides on the part of the RBI in filing the winding up petition. The court had to determine whether there was any evidence to support this allegation and whether the RBI acted in good faith.\\n\\nThese were the key legal issues that the court had to address in the case.',\n",
       " \"The decision in the case of Reserve Bank of India vs Palai Central Bank Ltd should be appealed on the following grounds:\\n\\n1. Violation of Article 14: The provision of Section 38(3)(b)(iii) of the Banking Regulation Act, 1949, which allows the RBI to seek winding up of a banking company if its continuance is prejudicial to depositors' interests, violates Article 14 of the Constitution. This provision confers arbitrary power on the RBI without providing sufficient guidelines for its exercise. It enables differential treatment of banks in similar circumstances and lacks transparency.\\n\\n2. Violation of Article 19(1)(f) and (g): The provision also violates the fundamental rights under Article 19(1)(f) and (g) of the Constitution. The restriction imposed by the provision on the banking company's right to carry on its business and the right to property is not a reasonable restriction in the interest of the general public. The provision does not provide for a fair and just procedure for winding up and fails to consider alternative measures to protect depositors' interests.\\n\\n3. Lack of evidence of mala fides: The RBI failed to provide sufficient evidence to justify the winding up of Palai Central Bank. The inspection reports and materials presented did not conclusively prove that the continuance of the bank was prejudicial to depositors' interests. The RBI's decision to file the winding up petition was arbitrary and lacked proper justification.\\n\\n4. Need for judicial review: The decision to wind up a banking company should be subject to judicial review to ensure fairness and prevent abuse of power. The provision of Section 38(3)(b)(iii) denies the banking company the opportunity to present its case before a court of law and seek appropriate remedies.\\n\\nBased on these grounds, it is necessary to appeal the decision of the High Court of Kerala and seek a reconsideration of the validity of Section 38(3)(b)(iii) of the Banking Regulation Act, 1949.\",\n",
       " 'The legal precedents used in the Reserve Bank of India vs Palai Central Bank Ltd case are not explicitly mentioned in the provided information. However, based on the case history and legal reasoning, it can be inferred that the court relied on the following legal principles:\\n\\n1. Interpretation of Section 38(3)(b)(iii) of the Banking Regulation Act, 1949: The court analyzed the language and intent of this provision to determine its constitutionality and validity.\\n\\n2. Constitutional validity under Article 14 of the Constitution of India: The court examined whether Section 38(3)(b)(iii) violated the right to equality guaranteed under Article 14.\\n\\n3. Constitutional validity under Article 19(1)(f) and (g) of the Constitution of India: The court assessed whether Section 38(3)(b)(iii) infringed upon the fundamental rights to practice any profession, occupation, trade, or business.\\n\\n4. Reasonable restriction under Article 19(5) and (6) of the Constitution of India: The court evaluated whether the restriction imposed by Section 38(3)(b)(iii) qualified as a reasonable restriction in the interest of the general public.\\n\\nAlthough specific case precedents are not mentioned, the court likely relied on established legal principles and interpretations of the Constitution to arrive at its decision.',\n",
       " \"To challenge the decision of the Reserve Bank of India vs Palai Central Bank Ltd case in a higher court, the following legal strategy can be formulated:\\n\\n1. Identify grounds for appeal: Carefully analyze the judgment of the High Court of Kerala and identify the legal errors or points of law that can be challenged in a higher court. This may include misinterpretation or misapplication of constitutional provisions, statutory provisions, or precedents.\\n\\n2. File an appeal: Prepare and file an appeal in the appropriate higher court, such as the Supreme Court of India. The appeal should clearly state the grounds for challenging the decision and provide a concise summary of the facts and legal arguments.\\n\\n3. Engage experienced counsel: Retain experienced and knowledgeable counsel who specialize in constitutional law and banking law to handle the appeal. The counsel should have a strong track record in arguing cases before the higher court and be well-versed in the relevant legal principles.\\n\\n4. Conduct thorough legal research: Conduct comprehensive legal research to identify relevant precedents, statutes, and constitutional provisions that support the grounds for appeal. This will strengthen the legal arguments and increase the chances of success.\\n\\n5. Draft persuasive legal arguments: Prepare well-reasoned and persuasive legal arguments that highlight the errors in the lower court's decision and demonstrate how the law supports the appellant's position. The arguments should be backed by solid legal authority and logical reasoning.\\n\\n6. Present oral arguments: During the hearing in the higher court, present compelling oral arguments that effectively convey the appellant's position and address any counterarguments raised by the opposing party. The arguments should be clear, concise, and supported by relevant legal authorities.\\n\\n7. Anticipate counterarguments: Anticipate the counterarguments that the opposing party may raise and prepare strong rebuttals to effectively counter them. This will help strengthen the appellant's case and demonstrate the weaknesses in the respondent's arguments.\\n\\n8. Emphasize the importance of the case: Highlight the significance of the case and its potential impact on the banking sector and the rights of depositors. Argue that the decision of the higher court will have far-reaching implications and should be carefully considered.\\n\\n9. Seek appropriate remedies: Clearly state the desired remedies sought by the appellant, such as setting aside the lower court's decision, granting a new trial, or any other appropriate relief.\\n\\n10. Maintain professionalism and respect: Throughout the appeal process, maintain a professional and respectful demeanor towards the court, opposing counsel, and the judicial process. This will enhance the credibility of the appellant's case and contribute to a favorable impression.\\n\\nBy following this legal strategy, the appellant can effectively challenge the decision of the Reserve Bank of India vs Palai Central Bank Ltd case in a higher court and seek a favorable outcome.\",\n",
       " 'The legal context of the case Reserve Bank of India vs Palai Central Bank Ltd revolves around the interpretation and application of the relevant Indian laws and constitutional provisions related to banking and company law. The key legal provisions involved in this case are:\\n\\n1. Banking Regulation Act, 1949: The case primarily revolves around Section 38(3)(b)(iii) of the Banking Regulation Act, 1949. This provision empowers the Reserve Bank of India (RBI) to seek the winding up of a banking company if its continuance is prejudicial to the interests of depositors.\\n\\n2. Constitution of India: The case also involves the examination of the constitutional validity of Section 38(3)(b)(iii) of the Banking Regulation Act, 1949. The constitutional provisions relevant to this case are:\\n   a. Article 14: The challenge to the validity of Section 38(3)(b)(iii) raises the question of whether it violates the right to equality guaranteed under Article 14 of the Constitution.\\n   b. Article 19(1)(f) and (g): The challenge also raises the question of whether Section 38(3)(b)(iii) infringes upon the fundamental rights to practice any profession, or to carry on any occupation, trade, or business guaranteed under Article 19(1)(f) and (g) of the Constitution.\\n\\nThe legal context of the case involves analyzing the interpretation and constitutionality of these provisions in light of the facts and arguments presented by the parties involved.',\n",
       " \"In the case of Reserve Bank of India vs Palai Central Bank Ltd, there were no dissenting opinions or areas of disagreement between judges' opinions. The bench comprised of only a single judge, and the decision was unanimous.\",\n",
       " \"The Reserve Bank of India Act, 1934 is a key legislation that establishes the Reserve Bank of India (RBI) as the central banking institution in India. The Act outlines the purpose, main provisions, and implications of the RBI's functions and powers.\\n\\nPurpose:\\n\\nThe primary purpose of the Reserve Bank of India Act, 1934 is to provide for the establishment of the RBI and to confer upon it the necessary powers and functions to regulate the monetary and banking system in India. The Act aims to maintain the stability of the country's financial system, promote economic growth, and safeguard the interests of depositors and the overall economy.\\n\\nMain Provisions:\\n\\n1. Establishment and Constitution: The Act establishes the RBI as a statutory body with a central board of directors consisting of a Governor, Deputy Governors, and other directors appointed by the Central Government.\\n\\n2. Functions and Powers: The Act empowers the RBI to regulate the issue of banknotes, control the credit system, manage foreign exchange reserves, supervise and regulate banks and financial institutions, and promote the development of the financial system.\\n\\n3. Monetary Policy: The Act grants the RBI the authority to formulate and implement monetary policy in India, including setting interest rates, controlling inflation, and managing the money supply.\\n\\n4. Banking Regulation: The Act provides the RBI with the power to regulate and supervise banks, including licensing, inspection, and imposition of penalties for non-compliance with banking regulations.\\n\\n5. Currency Management: The Act empowers the RBI to issue and manage currency notes and coins in India, ensuring their integrity, security, and availability.\\n\\nImplications:\\n\\nThe Reserve Bank of India Act, 1934 has significant implications for the Indian economy and financial system. It establishes the RBI as the central authority responsible for monetary policy, banking regulation, and currency management. The Act ensures the stability and integrity of the financial system, promotes economic growth, and protects the interests of depositors and the overall economy. The Act's provisions enable the RBI to effectively carry out its functions and powers, contributing to the smooth functioning of the Indian economy and the development of the financial sector.\",\n",
       " \"Section 38(3)(b)(iii) of the Banking Regulation Act, 1949 played a crucial role in the case Reserve Bank of India vs Palai Central Bank Ltd. This provision empowered the Reserve Bank of India (RBI) to seek the winding up of a banking company if its continuance was deemed prejudicial to the interests of depositors. The validity of this provision was challenged by Palai Central Bank Ltd., the party opposing the winding up petition filed by RBI.\\n\\nThe main issue in the case was the validity of Section 38(3)(b)(iii) and whether it violated Article 14 and 19(1)(f) and (g) of the Constitution. The court held that Section 38(3)(b)(iii) was constitutionally valid and did not violate the mentioned articles.\\n\\nThe court reasoned that Section 38(3)(b)(iii) provided sufficient guidance to the RBI for the exercise of its power and was not arbitrary. It recognized the RBI as the best authority to determine if winding up was necessary to protect the interests of depositors. The court also emphasized that the provision did not enable differential treatment of similarly placed banks and that RBI's subjective satisfaction was based on inspections and intimate knowledge of banks.\\n\\nTherefore, Section 38(3)(b)(iii) of the Banking Regulation Act, 1949 played a pivotal role in upholding the RBI's power to seek the winding up of Palai Central Bank Ltd. based on the precarious financial position and inspection reports of the bank. It established the validity and importance of this provision in safeguarding the interests of depositors and maintaining the stability of the banking sector.\"]"
      ]
     },
     "execution_count": 40,
     "metadata": {},
     "output_type": "execute_result"
    }
   ],
   "source": [
    "# reference_texts"
   ]
  }
 ],
 "metadata": {
  "kernelspec": {
   "display_name": "Python 3 (ipykernel)",
   "language": "python",
   "name": "python3"
  },
  "language_info": {
   "codemirror_mode": {
    "name": "ipython",
    "version": 3
   },
   "file_extension": ".py",
   "mimetype": "text/x-python",
   "name": "python",
   "nbconvert_exporter": "python",
   "pygments_lexer": "ipython3",
   "version": "3.12.2"
  }
 },
 "nbformat": 4,
 "nbformat_minor": 5
}
