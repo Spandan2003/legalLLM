{
 "cells": [
  {
   "cell_type": "code",
   "execution_count": 23,
   "metadata": {},
   "outputs": [],
   "source": [
    "import os\n",
    "import numpy as np\n",
    "import evaluate\n",
    "#from string2string.similarity import BARTScore"
   ]
  },
  {
   "cell_type": "code",
   "execution_count": 24,
   "metadata": {},
   "outputs": [],
   "source": [
    "\n",
    "def extract_text_from_files(folder1, folder2):\n",
    "    # Dictionary to store text from both folders\n",
    "    data = []\n",
    "\n",
    "    # Get the list of files from both folders (assuming both folders have the same filenames)\n",
    "    files1 = sorted(os.listdir(folder1))\n",
    "    files2 = sorted(os.listdir(folder2))\n",
    "\n",
    "    # Ensure both folders contain the same filenames\n",
    "    if files1 != files2:\n",
    "        print(\"Error: Folder file names don't match.\")\n",
    "        return None\n",
    "    \n",
    "    # Loop through the files and extract content\n",
    "    for filename in files1:\n",
    "        file1_path = os.path.join(folder1, filename)\n",
    "        file2_path = os.path.join(folder2, filename)\n",
    "        \n",
    "        # Check if both files exist\n",
    "        if os.path.exists(file1_path) and os.path.exists(file2_path):\n",
    "            # Read content from folder 1 (ground truth)\n",
    "            with open(file1_path, 'r', encoding='utf-8') as file1:\n",
    "                folder1_text = file1.read()\n",
    "\n",
    "            # Read content from folder 2 (generated)\n",
    "            with open(file2_path, 'r', encoding='utf-8') as file2:\n",
    "                folder2_text = file2.read()\n",
    "\n",
    "            # Store both in the dictionary\n",
    "            data.append({\n",
    "                'ground_truth': folder1_text,\n",
    "                'generated': folder2_text\n",
    "            })\n",
    "        else:\n",
    "            print(f\"Error: File {filename} is missing in one of the folders.\")\n",
    "    \n",
    "    return data"
   ]
  },
  {
   "cell_type": "code",
   "execution_count": 25,
   "metadata": {},
   "outputs": [
    {
     "name": "stderr",
     "output_type": "stream",
     "text": [
      "[nltk_data] Downloading package wordnet to\n",
      "[nltk_data]     /data/nlp/spandan/nltk_data...\n",
      "[nltk_data]   Package wordnet is already up-to-date!\n",
      "[nltk_data] Downloading package punkt to\n",
      "[nltk_data]     /data/nlp/spandan/nltk_data...\n",
      "[nltk_data]   Package punkt is already up-to-date!\n",
      "[nltk_data] Downloading package omw-1.4 to\n",
      "[nltk_data]     /data/nlp/spandan/nltk_data...\n",
      "[nltk_data]   Package omw-1.4 is already up-to-date!\n"
     ]
    }
   ],
   "source": [
    "rouge = evaluate.load(\"rouge\")\n",
    "bleu = evaluate.load(\"bleu\")\n",
    "bertscore = evaluate.load(\"bertscore\")\n",
    "meteor =evaluate.load(\"meteor\")\n",
    "\n",
    "def calculate_rouge(results, rouge):\n",
    "    for result in results:\n",
    "        rouge.add(prediction=result['generated'], reference=result['ground_truth'])\n",
    "    return rouge.compute()\n",
    "\n",
    "def calculate_bleu(results, bleu):\n",
    "    for result in results:\n",
    "        bleu.add(prediction=result['generated'], reference=result['ground_truth'])\n",
    "    return bleu.compute()\n",
    "\n",
    "def calculate_meteor(results, meteor):\n",
    "    for result in results:\n",
    "        meteor.add(prediction=result['generated'], reference=result['ground_truth'])\n",
    "    return meteor.compute()\n",
    "\n",
    "def calculate_bertscore(results, bertscore):\n",
    "    for result in results:\n",
    "        bertscore.add(prediction=result['generated'], reference=result['ground_truth'])\n",
    "    return bertscore.compute(lang='en') \n",
    "\n",
    "\n"
   ]
  },
  {
   "cell_type": "code",
   "execution_count": 26,
   "metadata": {},
   "outputs": [],
   "source": [
    "\n",
    "# Define folder paths\n",
    "folder1 = './code/legalLLM/chatbot/evaluator/chats_txt_truth'\n",
    "folder2 = './code/legalLLM/chatbot/evaluator/chats_txt_65'\n",
    "\n",
    "folder1 = os.path.join(os.getcwd(), folder1)\n",
    "folder2 = os.path.join(os.getcwd(), folder2)\n",
    "\n",
    "# Call the function and get the data\n",
    "data = extract_text_from_files(folder1, folder2)\n",
    "# print(len(file_data), file_data[0])"
   ]
  },
  {
   "cell_type": "code",
   "execution_count": 27,
   "metadata": {},
   "outputs": [
    {
     "name": "stdout",
     "output_type": "stream",
     "text": [
      "rouge_results  {'rouge1': 0.6690425144050275, 'rouge2': 0.41078427028279957, 'rougeL': 0.3322386011985272, 'rougeLsum': 0.6046693994342135}\n"
     ]
    }
   ],
   "source": [
    "rouge_results = calculate_rouge(data, rouge)\n",
    "print(\"rouge_results \",rouge_results)"
   ]
  },
  {
   "cell_type": "code",
   "execution_count": 28,
   "metadata": {},
   "outputs": [
    {
     "name": "stdout",
     "output_type": "stream",
     "text": [
      "bleu_results  {'bleu': 0.37478123326559953, 'precisions': [0.6357315420423074, 0.40417939952302795, 0.3017374701237681, 0.25446857930934363], 'brevity_penalty': 1.0, 'length_ratio': 1.0720366573047357, 'translation_length': 220623, 'reference_length': 205798}\n"
     ]
    }
   ],
   "source": [
    "bleu_results = calculate_bleu(data, bleu)\n",
    "print(\"bleu_results \", bleu_results)"
   ]
  },
  {
   "cell_type": "code",
   "execution_count": 29,
   "metadata": {},
   "outputs": [
    {
     "name": "stdout",
     "output_type": "stream",
     "text": [
      "meteor_results  {'meteor': 0.4192907460694575}\n"
     ]
    }
   ],
   "source": [
    "meteor_results = calculate_bleu(data, meteor)\n",
    "print(\"meteor_results \", meteor_results)"
   ]
  },
  {
   "cell_type": "code",
   "execution_count": 30,
   "metadata": {},
   "outputs": [
    {
     "name": "stderr",
     "output_type": "stream",
     "text": [
      "/data/nlp/spandan/anaconda3/envs/legalllm/lib/python3.12/site-packages/transformers/tokenization_utils_base.py:1601: FutureWarning: `clean_up_tokenization_spaces` was not set. It will be set to `True` by default. This behavior will be depracted in transformers v4.45, and will be then set to `False` by default. For more details check this issue: https://github.com/huggingface/transformers/issues/31884\n",
      "  warnings.warn(\n",
      "Some weights of RobertaModel were not initialized from the model checkpoint at roberta-large and are newly initialized: ['roberta.pooler.dense.bias', 'roberta.pooler.dense.weight']\n",
      "You should probably TRAIN this model on a down-stream task to be able to use it for predictions and inference.\n"
     ]
    },
    {
     "name": "stdout",
     "output_type": "stream",
     "text": [
      "bertscore_results - precision: 0.9093403761203472\n",
      "bertscore_results - recall: 0.9062752072627728\n",
      "bertscore_results - f1: 0.9077879502223088\n"
     ]
    }
   ],
   "source": [
    "bertscore_results = calculate_bertscore(data, bertscore)\n",
    "print(\"bertscore_results - precision:\",np.array(bertscore_results['precision']).mean())\n",
    "print(\"bertscore_results - recall:\",np.array(bertscore_results['recall']).mean())\n",
    "print(\"bertscore_results - f1:\",np.array(bertscore_results['f1']).mean())"
   ]
  },
  {
   "cell_type": "code",
   "execution_count": 31,
   "metadata": {},
   "outputs": [
    {
     "name": "stdout",
     "output_type": "stream",
     "text": [
      "rouge_results  {'rouge1': 0.6690425144050275, 'rouge2': 0.41078427028279957, 'rougeL': 0.3322386011985272, 'rougeLsum': 0.6046693994342135}\n",
      "bleu_results  {'bleu': 0.37478123326559953, 'precisions': [0.6357315420423074, 0.40417939952302795, 0.3017374701237681, 0.25446857930934363], 'brevity_penalty': 1.0, 'length_ratio': 1.0720366573047357, 'translation_length': 220623, 'reference_length': 205798}\n",
      "meteor_results  {'meteor': 0.4192907460694575}\n",
      "bertscore_results - precision: 0.9093403761203472\n",
      "bertscore_results - recall: 0.9062752072627728\n",
      "bertscore_results - f1: 0.9077879502223088\n"
     ]
    }
   ],
   "source": [
    "print(\"rouge_results \",rouge_results)\n",
    "print(\"bleu_results \", bleu_results)\n",
    "print(\"meteor_results \", meteor_results)\n",
    "print(\"bertscore_results - precision:\",np.array(bertscore_results['precision']).mean())\n",
    "print(\"bertscore_results - recall:\",np.array(bertscore_results['recall']).mean())\n",
    "print(\"bertscore_results - f1:\",np.array(bertscore_results['f1']).mean())"
   ]
  }
 ],
 "metadata": {
  "kernelspec": {
   "display_name": "legalllm",
   "language": "python",
   "name": "python3"
  },
  "language_info": {
   "codemirror_mode": {
    "name": "ipython",
    "version": 3
   },
   "file_extension": ".py",
   "mimetype": "text/x-python",
   "name": "python",
   "nbconvert_exporter": "python",
   "pygments_lexer": "ipython3",
   "version": "3.12.2"
  }
 },
 "nbformat": 4,
 "nbformat_minor": 2
}
