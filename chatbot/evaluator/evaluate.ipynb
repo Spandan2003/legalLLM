{
 "cells": [
  {
   "cell_type": "code",
   "execution_count": 1,
   "metadata": {},
   "outputs": [],
   "source": [
    "import json\n",
    "import evaluate\n",
    "import numpy as np"
   ]
  },
  {
   "cell_type": "code",
   "execution_count": 3,
   "metadata": {},
   "outputs": [
    {
     "ename": "ModuleNotFoundError",
     "evalue": "No module named 'moverscore_v2'",
     "output_type": "error",
     "traceback": [
      "\u001b[0;31m---------------------------------------------------------------------------\u001b[0m",
      "\u001b[0;31mModuleNotFoundError\u001b[0m                       Traceback (most recent call last)",
      "Cell \u001b[0;32mIn[3], line 1\u001b[0m\n\u001b[0;32m----> 1\u001b[0m \u001b[38;5;28;01mimport\u001b[39;00m \u001b[38;5;21;01mmoverscore_v2\u001b[39;00m\n",
      "\u001b[0;31mModuleNotFoundError\u001b[0m: No module named 'moverscore_v2'"
     ]
    }
   ],
   "source": [
    "import moverscore_v2"
   ]
  },
  {
   "cell_type": "code",
   "execution_count": 2,
   "metadata": {},
   "outputs": [],
   "source": [
    "# Opening JSON file\n",
    "f = open('/raid/nlp/shrey/LegalLLM/code/experiments/outputs/Llama-3.1-8b-Instruct-finetuned/LLM+SysPrompt.json')\n",
    "data = json.load(f)"
   ]
  },
  {
   "cell_type": "code",
   "execution_count": 3,
   "metadata": {},
   "outputs": [],
   "source": [
    "rouge = evaluate.load(\"rouge\")\n",
    "bleu = evaluate.load(\"bleu\")\n",
    "bertscore = evaluate.load(\"bertscore\")\n",
    "\n",
    "def calculate_rouge(results, rouge):\n",
    "    for result in results:\n",
    "        rouge.add(prediction=result['generated_output'], reference=result['expected_output'])\n",
    "    return rouge.compute()\n",
    "\n",
    "def calculate_bleu(results, bleu):\n",
    "    for result in results:\n",
    "        bleu.add(prediction=result['generated_output'], reference=result['expected_output'])\n",
    "    return bleu.compute()\n",
    "\n",
    "def calculate_bertscore(results, bertscore):\n",
    "    for result in results:\n",
    "        bertscore.add(prediction=result['generated_output'], reference=result['expected_output'])\n",
    "    return bertscore.compute(lang='en') \n",
    "\n"
   ]
  },
  {
   "cell_type": "code",
   "execution_count": 4,
   "metadata": {},
   "outputs": [
    {
     "name": "stderr",
     "output_type": "stream",
     "text": [
      "Some weights of RobertaModel were not initialized from the model checkpoint at roberta-large and are newly initialized: ['roberta.pooler.dense.bias', 'roberta.pooler.dense.weight']\n",
      "You should probably TRAIN this model on a down-stream task to be able to use it for predictions and inference.\n"
     ]
    }
   ],
   "source": [
    "rouge_results = calculate_rouge(data, rouge)\n",
    "bleu_results = calculate_bleu(data, bleu)\n",
    "bertscore_results = calculate_bertscore(data, bertscore)"
   ]
  },
  {
   "cell_type": "code",
   "execution_count": 5,
   "metadata": {},
   "outputs": [
    {
     "name": "stdout",
     "output_type": "stream",
     "text": [
      "rouge_results  {'rouge1': 0.08889253625178625, 'rouge2': 0.03642900784162043, 'rougeL': 0.0614118736283875, 'rougeLsum': 0.06141953628671673}\n",
      "bleu_results  {'bleu': 0.022855875717133597, 'precisions': [0.06428847855096788, 0.025314750261150428, 0.015078690454638643, 0.011120416215205754], 'brevity_penalty': 1.0, 'length_ratio': 6.5992614624307, 'translation_length': 3343694, 'reference_length': 506677}\n",
      "bertscore_results - precision: 0.7507601898006008\n",
      "bertscore_results - recall: 0.8538847147036054\n",
      "bertscore_results - f1: 0.7978363235357839\n"
     ]
    }
   ],
   "source": [
    "print(\"rouge_results \",rouge_results)\n",
    "print(\"bleu_results \",bleu_results)\n",
    "print(\"bertscore_results - precision:\",np.array(bertscore_results['precision']).mean())\n",
    "print(\"bertscore_results - recall:\",np.array(bertscore_results['recall']).mean())\n",
    "print(\"bertscore_results - f1:\",np.array(bertscore_results['f1']).mean())"
   ]
  },
  {
   "cell_type": "code",
   "execution_count": null,
   "metadata": {},
   "outputs": [],
   "source": []
  },
  {
   "cell_type": "code",
   "execution_count": null,
   "metadata": {},
   "outputs": [],
   "source": []
  }
 ],
 "metadata": {
  "kernelspec": {
   "display_name": "base",
   "language": "python",
   "name": "python3"
  },
  "language_info": {
   "codemirror_mode": {
    "name": "ipython",
    "version": 3
   },
   "file_extension": ".py",
   "mimetype": "text/x-python",
   "name": "python",
   "nbconvert_exporter": "python",
   "pygments_lexer": "ipython3",
   "version": "3.12.2"
  }
 },
 "nbformat": 4,
 "nbformat_minor": 2
}
